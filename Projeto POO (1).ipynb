{
 "cells": [
  {
   "cell_type": "markdown",
   "id": "92861a9a",
   "metadata": {},
   "source": [
    "Projeto POO - **Sistema de Cadastro de Alunos**\n",
    "\n",
    "📌 Propósito do Projeto:\n",
    "O projeto tem como objetivo simular um sistema simples de cadastro e gerenciamento de alunos, no qual começaremos a aplicar os conceitos fundamentais da Programação Orientada a Objetos (POO) de forma prática e contextualizada."
   ]
  },
  {
   "cell_type": "markdown",
   "id": "98baf20b",
   "metadata": {},
   "source": [
    "🧠 Conceitos que estamos aplicando nesta fase:\n",
    "Encapsulamento: protegendo os dados do aluno (como nome, matrícula e notas), permitindo acesso controlado por meio de métodos (getters e setters).\n",
    "\n",
    "Validação de dados: garantindo que somente informações corretas sejam registradas, como nomes não vazios e matrículas com o número correto de dígitos.\n",
    "\n",
    "Responsabilidade clara dos métodos: cada método tem uma função bem definida (ex: adicionar_nota(), calcular_media()), seguindo o princípio da coesão."
   ]
  },
  {
   "cell_type": "markdown",
   "id": "cf5ccb38",
   "metadata": {},
   "source": [
    " Classe Aluno"
   ]
  },
  {
   "cell_type": "code",
   "execution_count": 3,
   "id": "30177dfd",
   "metadata": {},
   "outputs": [],
   "source": [
    "class Aluno:\n",
    "    def __init__(self, nome, matricula):\n",
    "        # Atributos privados:\n",
    "        self.__nome = None \n",
    "        self.__matricula = None\n",
    "        self.__notas = []\n",
    "\n",
    "        self.set_nome(nome)\n",
    "        self.set_matricula(matricula)\n",
    "\n",
    "    # Getter para o nome:\n",
    "    def get_nome(self):\n",
    "        return self.__nome\n",
    "    \n",
    "    # Setter para o nome, com validação: não pode ser vazio ou conter apenas espaços\n",
    "    def set_nome(self, nome):\n",
    "        if nome: # Verifica se o nome não é vazio ou apenas espaços\n",
    "            self.__nome = nome\n",
    "        else:\n",
    "            print(\"Nome inválido. Por favor, insira um nome válido.\")\n",
    "\n",
    "    # Getter para a matrícula\n",
    "    def get_matricula(self):\n",
    "        return self.__matricula\n",
    "\n",
    "    # Setter para matrícula com validação: número entre 8 e 10 dígitos\n",
    "    def set_matricula(self, matricula):\n",
    "        if matricula.isdigit() and 8 <= len(matricula) <= 10:\n",
    "            self.__matricula = matricula\n",
    "        else:\n",
    "            print(\"Matrícula inválida. Deve conter entre 8 e 10 dígitos numéricos.\")\n",
    "\n",
    "    def adicionar_nota(self, nota):\n",
    "        if 0 <= nota <= 10:\n",
    "            self.__notas.append(nota)\n",
    "        else:\n",
    "            print(\"Nota inválida!\")\n",
    "\n",
    "    def calcular_media(self): # Retorna a média das notas do aluno ou 0 se não houver notas.\n",
    "        if len(self.__notas) == 0:\n",
    "            return 0\n",
    "        return sum(self.__notas) / len(self.__notas)\n",
    "    def realizar_atividade(self):\n",
    "        print(\"Atividade generica para alunos.\")\n"
   ]
  },
  {
   "cell_type": "markdown",
   "id": "f9ac08b5",
   "metadata": {},
   "source": [
    " se você usar um setter com validação para atribuir um valor, o ideal é inicializar com None primeiro no __init__ para garantir que o atributo privado exista antes de ser validado."
   ]
  },
  {
   "cell_type": "markdown",
   "id": "0e433f08",
   "metadata": {},
   "source": [
    "✅ Testando a Classe"
   ]
  },
  {
   "cell_type": "code",
   "execution_count": 4,
   "id": "e118d2e0",
   "metadata": {},
   "outputs": [
    {
     "name": "stdout",
     "output_type": "stream",
     "text": [
      "Aluno: João\n",
      "Média: 7.5\n"
     ]
    }
   ],
   "source": [
    "aluno1 = Aluno(\"João\", \"2025101035\")\n",
    "aluno1.adicionar_nota(8.0)\n",
    "aluno1.adicionar_nota(7.0)\n",
    "\n",
    "print(\"Aluno:\", aluno1.get_nome())\n",
    "print(\"Média:\", aluno1.calcular_media())\n"
   ]
  },
  {
   "cell_type": "markdown",
   "id": "b41e7317",
   "metadata": {},
   "source": [
    "💻 Exercício Proposto\n",
    "Crie mais 2 alunos com nomes e matrículas diferentes.\n",
    "\n",
    "Adicione notas distintas para cada um.\n",
    "\n",
    "Crie um método mostrar_dados que exibe nome, matrícula e média."
   ]
  },
  {
   "cell_type": "code",
   "execution_count": 2,
   "id": "f908591c",
   "metadata": {},
   "outputs": [
    {
     "ename": "IndentationError",
     "evalue": "unexpected indent (801171565.py, line 2)",
     "output_type": "error",
     "traceback": [
      "  \u001b[36mCell\u001b[39m\u001b[36m \u001b[39m\u001b[32mIn[2]\u001b[39m\u001b[32m, line 2\u001b[39m\n\u001b[31m    \u001b[39m\u001b[31mdef mostrar_dados(self):\u001b[39m\n    ^\n\u001b[31mIndentationError\u001b[39m\u001b[31m:\u001b[39m unexpected indent\n"
     ]
    }
   ],
   "source": [
    "# Novo método solicitado\n",
    "    def mostrar_dados(self):\n",
    "        print(f\"Nome: {self.get_nome()}\")\n",
    "        ..."
   ]
  },
  {
   "cell_type": "markdown",
   "id": "fa928497",
   "metadata": {},
   "source": [
    "🔜 O que vem por aí...\n",
    "Na próxima aula vamos criar subclasses usando herança, como:\n",
    "\n",
    "`AlunoIntegrado`\n",
    "\n",
    "`AlunoSubsequente`\n",
    "\n",
    "`AlunoGraduação`\n",
    "\n",
    "`AlunoPosGraduação`"
   ]
  },
  {
   "cell_type": "markdown",
   "id": "2e76fa76",
   "metadata": {},
   "source": [
    "Próximas aulas:\n",
    "\n",
    "Implementação de herança, polimorfismo, e mais validações específicas.\n",
    "\n",
    "Ampliação para registrar turmas, disciplinas e cálculos automatizados de desempenho."
   ]
  },
  {
   "cell_type": "markdown",
   "id": "c337d591",
   "metadata": {},
   "source": [
    "Herança – Subclasses de Aluno\n",
    "A ideia é criar subclasses que representam diferentes tipos de alunos: Integrado, Subsequente, Graduação e Pós-Graduação."
   ]
  },
  {
   "cell_type": "code",
   "execution_count": 1,
   "id": "71d17bc8",
   "metadata": {},
   "outputs": [
    {
     "ename": "NameError",
     "evalue": "name 'Aluno' is not defined",
     "output_type": "error",
     "traceback": [
      "\u001b[31m---------------------------------------------------------------------------\u001b[39m",
      "\u001b[31mNameError\u001b[39m                                 Traceback (most recent call last)",
      "\u001b[36mCell\u001b[39m\u001b[36m \u001b[39m\u001b[32mIn[1]\u001b[39m\u001b[32m, line 1\u001b[39m\n\u001b[32m----> \u001b[39m\u001b[32m1\u001b[39m \u001b[38;5;28;01mclass\u001b[39;00m\u001b[38;5;250m \u001b[39m\u001b[34;01mAlunoIntegrado\u001b[39;00m(\u001b[43mAluno\u001b[49m):\n\u001b[32m      2\u001b[39m     \u001b[38;5;28;01mdef\u001b[39;00m\u001b[38;5;250m \u001b[39m\u001b[34m_init_\u001b[39m(\u001b[38;5;28mself\u001b[39m, nome, matricula, curso_tecnico):\n\u001b[32m      3\u001b[39m         \u001b[38;5;28msuper\u001b[39m()._init_(nome, matricula)\n",
      "\u001b[31mNameError\u001b[39m: name 'Aluno' is not defined"
     ]
    }
   ],
   "source": [
    "class AlunoIntegrado(Aluno):\n",
    "    def _init_(self, nome, matricula, curso_tecnico):\n",
    "        super()._init_(nome, matricula)\n",
    "        self.curso_tecnico = curso_tecnico\n",
    "\n",
    "    def mostrar_dados(self):\n",
    "        super().mostrar_dados()\n",
    "        print(f\"Curso Técnico: {self.curso_tecnico}\")\n",
    "\n",
    "    def realizar_atividade(self):\n",
    "        print(f\"{self.nome}(integrado) esta participando de uma aula pratica no laboratorio.\")\n",
    "class AlunoGraduacao(Aluno):\n",
    "    def _init_(self, nome, matricula, curso_graduacao):\n",
    "        super()._init_(nome, matricula)\n",
    "        self.curso_graduacao = curso_graduacao\n",
    "\n",
    "    def mostrar_dados(self):\n",
    "        super().mostrar_dados()\n",
    "        print(f\"Curso de Graduação: {self.curso_graduacao}\")\n",
    "    def realizar_atividade(self):\n",
    "        print(f\"{self.nome} (Graduação) esta fazendo seu trabalho de conclusão de curso (TCC).\") \n",
    "\n",
    "# Criando lista de alunos com diferentes tipos\n",
    "alunos=[\n",
    "\n",
    "AlunoIntegrado(\"Ana\", \"12345678\", 'curso tecnico'),\n",
    "AlunoSubsequente(\"bruno\", \"23456789\" 'curso superior'),\n",
    "AlunoGraduacao(\"Carla\", \"34567890\"'curso graduacao'),\n",
    "AlunoPosGraduacao (\"Diego\", \"45678901\" 'curso tecnico')\n",
    "]\n",
    "\n",
    "class Aluno:\n",
    "    def _init_(self, nome, matricula):\n",
    "        self.nome = nome\n",
    "        self.matricula = matricula\n",
    "\n",
    "    def realizar_atividade(self):\n",
    "        \n",
    "        raise NotImplementedError(\"O método 'realizar_atividade' deve ser implementado na subclasse.\")\n",
    "\n",
    "    def _str_(self):\n",
    "        return f\"Aluno: {self.nome} (Matrícula: {self.matricula})\"\n",
    "\n",
    "class AlunoGraduacao(Aluno):\n",
    "    def _init_(self, nome, matricula, curso):\n",
    "        super()._init_(nome, matricula)\n",
    "        self.curso = curso\n",
    "\n",
    "    def realizar_atividade(self):\n",
    "        \n",
    "        print(f\"{self.nome} está estudando para as provas de {self.curso} e participando de seminários.\")\n",
    "\n",
    "class AlunoPosGraduacao(Aluno):\n",
    "    def _init_(self, nome, matricula,):\n",
    "        super()._init_(nome, matricula)\n",
    "        self.nome=nome\n",
    "\n",
    "    def realizar_atividade(self):\n",
    "        \n",
    "        print(f\"{self.nome} está desenvolvendo sua pesquisa em '{self.linha_pesquisa}' e escrevendo artigos científicos.\")\n",
    "\n",
    "class AlunoEnsinoMedio(Aluno):\n",
    "    def _init_(self, nome, matricula, serie):\n",
    "        super()._init_(nome, matricula)\n",
    "        self.serie = serie\n",
    "\n",
    "    def realizar_atividade(self):\n",
    "        \n",
    "        print(f\"{self.nome} está assistindo às aulas da {self.serie}ª série e fazendo os trabalhos de casa.\")\n",
    "\n",
    "class AlunoIntercambio(Aluno):\n",
    "    def _init_(self, nome, matricula, pais_origem):\n",
    "        super()._init_(nome, matricula)\n",
    "        self.pais_origem = pais_origem\n",
    "\n",
    "    def realizar_atividade(self):\n",
    "        \n",
    "        print(f\"{self.nome} (de {self.pais_origem}) está explorando a cultura local e praticando o idioma.\")\n",
    "\n",
    "from aluno import AlunoIntegrado, AlunoSubsequente, Aluno, AlunoGraduacao, AlunoPosGraduacao\n",
    "\n",
    "def main():\n",
    "   \n",
    "    lista_alunos = [\n",
    "        AlunoIntegrado(\"Ana Silva\", \"G123\", \"Engenharia de Software\"),\n",
    "        AlunoEnsinoMedio(\"Bruno Costa\", \"P456\", \"Inteligência Artificial\"),\n",
    "        Aluno(\"Carlos Dantas\", \"EM789\", \"3ª\"),\n",
    "        AlunoGraduacao(\"Diana Souza\", \"G987\", \"Medicina\"),\n",
    "        AlunoPosGraduacao(\"Fernanda Lima\", \"P112\", \"Cibersegurança\")\n",
    "    ]\n",
    "\n",
    "    print(\"--- Atividades Diárias dos Alunos ---\")\n",
    "    print(\"-\" * 30)\n",
    "\n",
    "    \n",
    "    for aluno in lista_alunos:\n",
    "        print(f\"{aluno.nome}: \", end=\"\")\n",
    "        aluno.realizar_atividade()\n",
    "        print(\"-\" * 30)\n",
    "\n",
    "if _name_ == \"_main_\":\n",
    "    main()\n",
    "\n",
    "        \n",
    "\n",
    "      "
   ]
  }
 ],
 "metadata": {
  "kernelspec": {
   "display_name": "Python 3",
   "language": "python",
   "name": "python3"
  },
  "language_info": {
   "codemirror_mode": {
    "name": "ipython",
    "version": 3
   },
   "file_extension": ".py",
   "mimetype": "text/x-python",
   "name": "python",
   "nbconvert_exporter": "python",
   "pygments_lexer": "ipython3",
   "version": "3.13.3"
  }
 },
 "nbformat": 4,
 "nbformat_minor": 5
}
