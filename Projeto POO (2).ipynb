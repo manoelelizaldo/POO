{
 "cells": [
  {
   "cell_type": "markdown",
   "id": "92861a9a",
   "metadata": {},
   "source": [
    "Projeto POO - **Sistema de Cadastro de Alunos**\n",
    "\n",
    "📌 Propósito do Projeto:\n",
    "O projeto tem como objetivo simular um sistema simples de cadastro e gerenciamento de alunos, no qual começaremos a aplicar os conceitos fundamentais da Programação Orientada a Objetos (POO) de forma prática e contextualizada."
   ]
  },
  {
   "cell_type": "markdown",
   "id": "98baf20b",
   "metadata": {},
   "source": [
    "🧠 Conceitos que estamos aplicando nesta fase:\n",
    "Encapsulamento: protegendo os dados do aluno (como nome, matrícula e notas), permitindo acesso controlado por meio de métodos (getters e setters).\n",
    "\n",
    "Validação de dados: garantindo que somente informações corretas sejam registradas, como nomes não vazios e matrículas com o número correto de dígitos.\n",
    "\n",
    "Responsabilidade clara dos métodos: cada método tem uma função bem definida (ex: adicionar_nota(), calcular_media()), seguindo o princípio da coesão."
   ]
  },
  {
   "cell_type": "markdown",
   "id": "cf5ccb38",
   "metadata": {},
   "source": [
    " Classe Aluno"
   ]
  },
  {
   "cell_type": "code",
   "execution_count": 2,
   "id": "30177dfd",
   "metadata": {},
   "outputs": [],
   "source": [
    "class Aluno:\n",
    "    def __init__(self, nome, matricula):\n",
    "        # Atributos privados:\n",
    "        self.__nome = None \n",
    "        self.__matricula = None\n",
    "        self.__notas = []\n",
    "\n",
    "        self.set_nome(nome)\n",
    "        self.set_matricula(matricula)\n",
    "\n",
    "    # Getter para o nome:\n",
    "    def get_nome(self):\n",
    "        return self.__nome\n",
    "    \n",
    "    # Setter para o nome, com validação: não pode ser vazio ou conter apenas espaços\n",
    "    def set_nome(self, nome):\n",
    "        if nome: # Verifica se o nome não é vazio ou apenas espaços\n",
    "            self.__nome = nome\n",
    "        else:\n",
    "            print(\"Nome inválido. Por favor, insira um nome válido.\")\n",
    "\n",
    "    # Getter para a matrícula\n",
    "    def get_matricula(self):\n",
    "        return self.__matricula\n",
    "\n",
    "    # Setter para matrícula com validação: número entre 8 e 10 dígitos\n",
    "    def set_matricula(self, matricula):\n",
    "        if matricula.isdigit() and 8 <= len(matricula) <= 10:\n",
    "            self.__matricula = matricula\n",
    "        else:\n",
    "            print(\"Matrícula inválida. Deve conter entre 8 e 10 dígitos numéricos.\")\n",
    "\n",
    "    def adicionar_nota(self, nota):\n",
    "        if 0 <= nota <= 10:\n",
    "            self.__notas.append(nota)\n",
    "        else:\n",
    "            print(\"Nota inválida!\")\n",
    "\n",
    "    def calcular_media(self): # Retorna a média das notas do aluno ou 0 se não houver notas.\n",
    "        if len(self.__notas) == 0:\n",
    "            return 0\n",
    "        return sum(self.__notas) / len(self.__notas)\n"
   ]
  },
  {
   "cell_type": "markdown",
   "id": "f9ac08b5",
   "metadata": {},
   "source": [
    " se você usar um setter com validação para atribuir um valor, o ideal é inicializar com None primeiro no __init__ para garantir que o atributo privado exista antes de ser validado."
   ]
  },
  {
   "cell_type": "markdown",
   "id": "0e433f08",
   "metadata": {},
   "source": [
    "✅ Testando a Classe"
   ]
  },
  {
   "cell_type": "code",
   "execution_count": 7,
   "id": "e118d2e0",
   "metadata": {},
   "outputs": [
    {
     "name": "stdout",
     "output_type": "stream",
     "text": [
      "Aluno: João\n",
      "Média: 7.5\n"
     ]
    }
   ],
   "source": [
    "aluno1 = Aluno(\"João\", \"2025101035\")\n",
    "aluno1.adicionar_nota(8.0)\n",
    "aluno1.adicionar_nota(7.0)\n",
    "\n",
    "print(\"Aluno:\", aluno1.get_nome())\n",
    "print(\"Média:\", aluno1.calcular_media())\n"
   ]
  },
  {
   "cell_type": "markdown",
   "id": "b41e7317",
   "metadata": {},
   "source": [
    "💻 Exercício Proposto\n",
    "Crie mais 2 alunos com nomes e matrículas diferentes.\n",
    "\n",
    "Adicione notas distintas para cada um.\n",
    "\n",
    "Crie um método mostrar_dados que exibe nome, matrícula e média."
   ]
  },
  {
   "cell_type": "code",
   "execution_count": null,
   "id": "f908591c",
   "metadata": {},
   "outputs": [],
   "source": [
    "# Novo método solicitado\n",
    "    def mostrar_dados(self):\n",
    "        print(f\"Nome: {self.get_nome()}\")\n",
    "        ..."
   ]
  },
  {
   "cell_type": "markdown",
   "id": "fa928497",
   "metadata": {},
   "source": [
    "🔜 O que vem por aí...\n",
    "Na próxima aula vamos criar subclasses usando herança, como:\n",
    "\n",
    "`AlunoIntegrado`\n",
    "\n",
    "`AlunoSubsequente`\n",
    "\n",
    "`AlunoGraduação`\n",
    "\n",
    "`AlunoPosGraduação`"
   ]
  },
  {
   "cell_type": "markdown",
   "id": "2e76fa76",
   "metadata": {},
   "source": [
    "Próximas aulas:\n",
    "\n",
    "Implementação de herança, polimorfismo, e mais validações específicas.\n",
    "\n",
    "Ampliação para registrar turmas, disciplinas e cálculos automatizados de desempenho."
   ]
  },
  {
   "cell_type": "markdown",
   "id": "c337d591",
   "metadata": {},
   "source": [
    "Herança – Subclasses de Aluno\n",
    "A ideia é criar subclasses que representam diferentes tipos de alunos: Integrado, Subsequente, Graduação e Pós-Graduação."
   ]
  }
 ],
 "metadata": {
  "kernelspec": {
   "display_name": "Python 3",
   "language": "python",
   "name": "python3"
  },
  "language_info": {
   "codemirror_mode": {
    "name": "ipython",
    "version": 3
   },
   "file_extension": ".py",
   "mimetype": "text/x-python",
   "name": "python",
   "nbconvert_exporter": "python",
   "pygments_lexer": "ipython3",
   "version": "3.13.3"
  }
 },
 "nbformat": 4,
 "nbformat_minor": 5
}
