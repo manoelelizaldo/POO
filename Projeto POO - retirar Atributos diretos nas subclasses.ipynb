{
 "cells": [
  {
   "cell_type": "code",
   "execution_count": 1,
   "id": "dc16fba4",
   "metadata": {},
   "outputs": [],
   "source": [
    "class Aluno:\n",
    "    def __init__(self, nome, matricula):\n",
    "        # Atributos privados:\n",
    "        self.__nome = None \n",
    "        self.__matricula = None\n",
    "        self.__notas = []\n",
    "\n",
    "        self.set_nome(nome)\n",
    "        self.set_matricula(matricula)\n",
    "\n",
    "    # Getter para o nome:\n",
    "    def get_nome(self):\n",
    "        return self.__nome\n",
    "    \n",
    "    # Setter para o nome, com validação: não pode ser vazio ou conter apenas espaços\n",
    "    def set_nome(self, nome):\n",
    "        if nome: # Verifica se o nome não é vazio ou apenas espaços\n",
    "            self.__nome = nome\n",
    "        else:\n",
    "            print(\"Nome inválido. Por favor, insira um nome válido.\")\n",
    "\n",
    "    # Getter para a matrícula\n",
    "    def get_matricula(self):\n",
    "        return self.__matricula\n",
    "\n",
    "    # Setter para matrícula com validação: número entre 8 e 10 dígitos\n",
    "    def set_matricula(self, matricula):\n",
    "        if matricula.isdigit() and 8 <= len(matricula) <= 10:\n",
    "            self.__matricula = matricula\n",
    "        else:\n",
    "            print(\"Matrícula inválida. Deve conter entre 8 e 10 dígitos numéricos.\")\n",
    "\n",
    "    def adicionar_nota(self, nota):\n",
    "        if 0 <= nota <= 10:\n",
    "            self.__notas.append(nota)\n",
    "        else:\n",
    "            print(\"Nota inválida!\")\n",
    "\n",
    "    def calcular_media(self): # Retorna a média das notas do aluno ou 0 se não houver notas.\n",
    "        if len(self.__notas) == 0:\n",
    "            return 0\n",
    "        return sum(self.__notas) / len(self.__notas)\n",
    "    \n",
    "    def mostrar_dados(self):\n",
    "        print(f\"Nome: {self.get_nome()}\")\n",
    "        print(f\"Matrícula: {self.get_matricula()}\")\n",
    "        print(f\"Média: {self.calcular_media():.2f}\")\n",
    "\n"
   ]
  },
  {
   "cell_type": "code",
   "execution_count": 2,
   "id": "746d3796",
   "metadata": {},
   "outputs": [],
   "source": [
    "class AlunoIntegrado(Aluno):\n",
    "    def __init__(self, nome, matricula):\n",
    "        super().__init__(nome, matricula)\n",
    "\n",
    "\n",
    "class AlunoSubsequente(Aluno):\n",
    "    def __init__(self, nome, matricula):\n",
    "        super().__init__(nome, matricula)\n",
    "\n",
    "\n",
    "class AlunoGraduacao(Aluno):\n",
    "    def __init__(self, nome, matricula):\n",
    "        super().__init__(nome, matricula)\n",
    "        \n",
    "\n",
    "class AlunoPosGraduacao(Aluno):\n",
    "    def __init__(self, nome, matricula):\n",
    "        super().__init__(nome, matricula)"
   ]
  },
  {
   "cell_type": "code",
   "execution_count": 3,
   "id": "8b1a76be",
   "metadata": {},
   "outputs": [],
   "source": [
    "# Criando lista de alunos com diferentes tipos\n",
    "alunos = [\n",
    "    AlunoIntegrado(\"Ana\", \"12345678\"),\n",
    "    AlunoSubsequente(\"Bruno\", \"23456789\"),\n",
    "    AlunoGraduacao(\"Carla\", \"34567890\"),\n",
    "    AlunoPosGraduacao(\"Diego\", \"45678901\")\n",
    "]\n",
    "\n"
   ]
  },
  {
   "cell_type": "code",
   "execution_count": 4,
   "id": "b6ef6226",
   "metadata": {},
   "outputs": [
    {
     "data": {
      "text/plain": [
       "<__main__.AlunoIntegrado at 0x213db92fb60>"
      ]
     },
     "execution_count": 4,
     "metadata": {},
     "output_type": "execute_result"
    }
   ],
   "source": [
    "alunos[0]"
   ]
  },
  {
   "cell_type": "code",
   "execution_count": 5,
   "id": "8b341e83",
   "metadata": {},
   "outputs": [],
   "source": [
    "alunos[0].adicionar_nota(8)\n",
    "alunos[0].adicionar_nota(9)\n",
    "\n",
    "alunos[1].adicionar_nota(7)\n",
    "alunos[1].adicionar_nota(6)\n",
    "\n",
    "alunos[2].adicionar_nota(10)\n",
    "alunos[2].adicionar_nota(9.5)\n",
    "\n",
    "alunos[3].adicionar_nota(8.5)\n",
    "alunos[3].adicionar_nota(9)"
   ]
  },
  {
   "cell_type": "code",
   "execution_count": 6,
   "id": "2d4d5e99",
   "metadata": {},
   "outputs": [
    {
     "name": "stdout",
     "output_type": "stream",
     "text": [
      "Nome: Ana\n",
      "Matrícula: 12345678\n",
      "Média: 8.50\n",
      "Nome: Bruno\n",
      "Matrícula: 23456789\n",
      "Média: 6.50\n",
      "Nome: Carla\n",
      "Matrícula: 34567890\n",
      "Média: 9.75\n",
      "Nome: Diego\n",
      "Matrícula: 45678901\n",
      "Média: 8.75\n"
     ]
    }
   ],
   "source": [
    "# Demonstrando polimorfismo\n",
    "for aluno in alunos:\n",
    "    aluno.mostrar_dados()"
   ]
  }
 ],
 "metadata": {
  "kernelspec": {
   "display_name": "Python 3",
   "language": "python",
   "name": "python3"
  },
  "language_info": {
   "codemirror_mode": {
    "name": "ipython",
    "version": 3
   },
   "file_extension": ".py",
   "mimetype": "text/x-python",
   "name": "python",
   "nbconvert_exporter": "python",
   "pygments_lexer": "ipython3",
   "version": "3.13.3"
  }
 },
 "nbformat": 4,
 "nbformat_minor": 5
}
